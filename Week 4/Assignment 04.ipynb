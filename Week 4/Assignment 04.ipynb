{
 "cells": [
  {
   "cell_type": "markdown",
   "metadata": {},
   "source": [
    "# Working with NoSQL Databases"
   ]
  },
  {
   "cell_type": "markdown",
   "metadata": {
    "tags": []
   },
   "source": [
    "## Assignment 4\n",
    "\n",
    "In this assignment, you will work with examples of NoSQL databases. It includes implementing a simple in-memory key-value database in Python, using an embedded document-oriented database, and working with a graph database. \n",
    "\n",
    "The `people` dictionary contains the data you will use for this assignment. "
   ]
  },
  {
   "cell_type": "code",
   "execution_count": 1,
   "metadata": {},
   "outputs": [],
   "source": [
    "people = [{'username': 'ryanandrew',\n",
    "  'name': 'Lisa Weber',\n",
    "  'age': 64,\n",
    "  'follows': ['jill95', 'jeffrey39']},\n",
    " {'username': 'robertkirk',\n",
    "  'name': 'Austin Harris',\n",
    "  'age': 21,\n",
    "  'follows': ['achen', 'stricklandheather']},\n",
    " {'username': 'jill95',\n",
    "  'name': 'Jason Tran',\n",
    "  'age': 72,\n",
    "  'follows': ['paul31', 'achen', 'uguerrero', 'murphydanny']},\n",
    " {'username': 'uguerrero',\n",
    "  'name': 'Jason Marshall',\n",
    "  'age': 45,\n",
    "  'follows': ['ryanandrew', 'achen']},\n",
    " {'username': 'pparker',\n",
    "  'name': 'Aaron Elliott',\n",
    "  'age': 21,\n",
    "  'follows': ['paul31']},\n",
    " {'username': 'xwilliams',\n",
    "  'name': 'John Dudley',\n",
    "  'age': 12,\n",
    "  'follows': ['ryanandrew', 'foleyangela', 'jeffrey39', 'alisonkeith']},\n",
    " {'username': 'kerrjulie',\n",
    "  'name': 'Charles Roberts',\n",
    "  'age': 35,\n",
    "  'follows': ['paul31']},\n",
    " {'username': 'stricklandheather',\n",
    "  'name': 'Sherry Nguyen',\n",
    "  'age': 27,\n",
    "  'follows': ['paul31', 'alisonkeith']},\n",
    " {'username': 'achen',\n",
    "  'name': 'Dwayne Hanson',\n",
    "  'age': 86,\n",
    "  'follows': ['uguerrero', 'xwilliams']},\n",
    " {'username': 'jeffrey39',\n",
    "  'name': 'James Henderson',\n",
    "  'age': 11,\n",
    "  'follows': ['murphydanny']},\n",
    " {'username': 'alisonkeith',\n",
    "  'name': 'Jordan Jordan',\n",
    "  'age': 39,\n",
    "  'follows': ['uguerrero']},\n",
    " {'username': 'murphydanny',\n",
    "  'name': 'Cindy Brown',\n",
    "  'age': 37,\n",
    "  'follows': ['ryanandrew', 'foleyangela', 'achen']},\n",
    " {'username': 'mgiles',\n",
    "  'name': 'Dawn Lopez',\n",
    "  'age': 44,\n",
    "  'follows': ['ryanandrew']},\n",
    " {'username': 'paul31',\n",
    "  'name': 'Jesus Thomas',\n",
    "  'age': 18,\n",
    "  'follows': ['robertkirk']},\n",
    " {'username': 'foleyangela',\n",
    "  'name': 'Juan Wood',\n",
    "  'age': 59,\n",
    "  'follows': ['achen', 'jeffrey39']}]"
   ]
  },
  {
   "cell_type": "markdown",
   "metadata": {},
   "source": [
    "### Assignment 4.1\n",
    "\n",
    "Implement a simple, in-memory key-value database using the skeleton code provided below. Insert all the `people` values with the `username` as the key and the entire profile as the value. Test `insert`, `fetch`, and `delete` to ensure they work properly. "
   ]
  },
  {
   "cell_type": "code",
   "execution_count": 2,
   "metadata": {},
   "outputs": [
    {
     "name": "stdout",
     "output_type": "stream",
     "text": [
      "True\n",
      "{'username': 'ryanandrew', 'name': 'Lisa Weber', 'age': 64, 'follows': ['jill95', 'jeffrey39']}\n",
      "True\n",
      "None\n"
     ]
    }
   ],
   "source": [
    "class SimpleDB:\n",
    "    def __init__(self):\n",
    "        self.db = dict()\n",
    "\n",
    "    def insert(self, key, value):\n",
    "        \"\"\"\n",
    "        Inserts a new value into the database\n",
    "\n",
    "        :param key: the key to insert\n",
    "        :param value: the value to insert\n",
    "        :return: True if value inserted, False if not\n",
    "        \"\"\"\n",
    "        try:\n",
    "            if key in self.db.keys():\n",
    "                return False\n",
    "            else:\n",
    "                self.db[key] = value\n",
    "                return True\n",
    "        except Exception as e:\n",
    "            print(e)\n",
    "            return False\n",
    "\n",
    "    def delete(self, key):\n",
    "        \"\"\"\n",
    "\n",
    "        :param key: key to delete\n",
    "        :return: True if value deleted, False if not\n",
    "        \"\"\"\n",
    "        try:\n",
    "            del self.db[key]\n",
    "            return True\n",
    "\n",
    "        except KeyError:\n",
    "            return False\n",
    "\n",
    "        except Exception as e:\n",
    "            print(e)\n",
    "            return False\n",
    "\n",
    "    def fetch(self, key):\n",
    "        \"\"\"\n",
    "        Fetches value associated with key\n",
    "\n",
    "        :param key: key whose value to fetch\n",
    "        :return: Value associated with key, \n",
    "        None if no value associated with key\n",
    "        \"\"\"\n",
    "        try:\n",
    "            return self.db[key]\n",
    "\n",
    "        except KeyError:\n",
    "            return None\n",
    "\n",
    "        except Exception as e:\n",
    "            print(e)\n",
    "            return\n",
    "    \n",
    "simple_db = SimpleDB()\n",
    "\n",
    "ryanandrew_profile = people[0]\n",
    "print(simple_db.insert('ryanandrew', ryanandrew_profile))\n",
    "\n",
    "print(simple_db.fetch('ryanandrew'))\n",
    "\n",
    "print(simple_db.delete('ryanandrew'))\n",
    "print(simple_db.fetch('ryanandrew'))"
   ]
  },
  {
   "cell_type": "markdown",
   "metadata": {},
   "source": [
    "When implemented correctly, the following code should return `True`:\n",
    "\n",
    "```python\n",
    "ryanandrew_profile = people[0]\n",
    "simple_db.insert('ryanandrew', ryanandrew_profile)\n",
    "```\n",
    "After inserting the profile, you should be able to fetch the profile using:\n",
    "\n",
    "```python\n",
    "simple_db.fetch('ryanandrew')\n",
    "```\n",
    "This code should return:\n",
    "\n",
    "```json\n",
    "{'username': 'ryanandrew',\n",
    "  'name': 'Lisa Weber',\n",
    "  'age': 64,\n",
    "  'follows': ['jill95', 'jeffrey39']}\n",
    "```\n",
    "\n",
    "Performing a delete following by a fetch should return `None`. \n",
    "\n",
    "```python\n",
    "simple_db.delete('ryanandrew')\n",
    "simple_db.fetch('ryanandrew')\n",
    "```"
   ]
  },
  {
   "cell_type": "markdown",
   "metadata": {},
   "source": [
    "### Assignment 4.2\n",
    "\n",
    "Next, you will use the same dataset with a document-oriented database called TinyDB. See the [TinyDB documentation](https://tinydb.readthedocs.io/en/latest/) and [TinyDB getting started](https://tinydb.readthedocs.io/en/latest/getting-started.html) for details on how to use TinyDB. While this database does not have the features of a full document database, such as MongoDB, it should provide an overview of the basics of document databases. \n",
    "\n",
    "The following code creates a TinyDB database in the `output` folder. It creates the `output` folder if it does not exist. "
   ]
  },
  {
   "cell_type": "code",
   "execution_count": 3,
   "metadata": {},
   "outputs": [],
   "source": [
    "from pathlib import Path\n",
    "from tinydb import TinyDB, Query\n",
    "\n",
    "output_dir = Path('output')\n",
    "output_dir.mkdir(parents=True, exist_ok=True)\n",
    "db_path = output_dir.joinpath('tinydb-people.json')\n",
    "\n",
    "people_db = TinyDB(db_path)\n",
    "\n",
    "# Clears any existing data in the database\n",
    "people_db.truncate()"
   ]
  },
  {
   "cell_type": "markdown",
   "metadata": {},
   "source": [
    "#### Assignment 4.2.a\n",
    "\n",
    "Insert all entries from the `people` dataset into the newly created database. "
   ]
  },
  {
   "cell_type": "code",
   "execution_count": 4,
   "metadata": {},
   "outputs": [
    {
     "data": {
      "text/plain": [
       "[1, 2, 3, 4, 5, 6, 7, 8, 9, 10, 11, 12, 13, 14, 15]"
      ]
     },
     "execution_count": 4,
     "metadata": {},
     "output_type": "execute_result"
    }
   ],
   "source": [
    "# TODO: Insert `people` data into `people_db`\n",
    "people_db.insert_multiple(people)\n"
   ]
  },
  {
   "cell_type": "markdown",
   "metadata": {},
   "source": [
    "#### Assignment 4.2.b\n",
    "\n",
    "Perform a search that returns all people older than 40 and assign the results to `over_40_results`. "
   ]
  },
  {
   "cell_type": "code",
   "execution_count": 5,
   "metadata": {},
   "outputs": [
    {
     "name": "stdout",
     "output_type": "stream",
     "text": [
      "[{'username': 'ryanandrew', 'name': 'Lisa Weber', 'age': 64, 'follows': ['jill95', 'jeffrey39']}, {'username': 'jill95', 'name': 'Jason Tran', 'age': 72, 'follows': ['paul31', 'achen', 'uguerrero', 'murphydanny']}, {'username': 'uguerrero', 'name': 'Jason Marshall', 'age': 45, 'follows': ['ryanandrew', 'achen']}, {'username': 'achen', 'name': 'Dwayne Hanson', 'age': 86, 'follows': ['uguerrero', 'xwilliams']}, {'username': 'mgiles', 'name': 'Dawn Lopez', 'age': 44, 'follows': ['ryanandrew']}, {'username': 'foleyangela', 'name': 'Juan Wood', 'age': 59, 'follows': ['achen', 'jeffrey39']}]\n"
     ]
    }
   ],
   "source": [
    "# TODO: Perform a search for that returns all people older than 40\n",
    "profile = Query()\n",
    "over_40_results = None\n",
    "over_40_results = people_db.search(profile.age > 40)\n",
    "print(over_40_results)"
   ]
  },
  {
   "cell_type": "markdown",
   "metadata": {},
   "source": [
    "#### Assignment 4.2.c\n",
    "\n",
    "Remove all people older than 40 from the database. Verify removal by performing an additional search. "
   ]
  },
  {
   "cell_type": "code",
   "execution_count": 6,
   "metadata": {},
   "outputs": [
    {
     "name": "stdout",
     "output_type": "stream",
     "text": [
      "[]\n"
     ]
    }
   ],
   "source": [
    "# TODO: Remove all people older than 40 from the database\n",
    "people_db.remove(profile.age > 40)\n",
    "print(people_db.search(profile.age > 40))"
   ]
  },
  {
   "cell_type": "markdown",
   "metadata": {},
   "source": [
    "### Assignment 4.3\n",
    "\n",
    "Lastly, we will insert the `people` data into [cog](https://arun1729.github.io/cog/), an embedded graph database implemented purely in Python. It does not provide the features of other graph databases, such as Neo4j or DGraph, but should provide an overview of the basics of graph databases. "
   ]
  },
  {
   "cell_type": "markdown",
   "metadata": {},
   "source": [
    "#### Assignment 4.3.a\n",
    "\n",
    "Insert the `people` dataset into the graph `g`.   For instance, you can add the first entry using the following code. \n",
    "\n",
    "```python\n",
    "g.put(\"ryanandrew\", \"follows\", \"jill95\")\n",
    "g.put(\"ryanandrew\", \"follows\", \"jeffrey39\")\n",
    "```\n",
    "\n",
    "Display the relationships between people using the following code. \n",
    "\n",
    "```python\n",
    "g.v().tag(\"from\").out(\"follows\").tag(\"to\").view(\"follows\").render()\n",
    "```"
   ]
  },
  {
   "cell_type": "code",
   "execution_count": 8,
   "metadata": {},
   "outputs": [
    {
     "ename": "ModuleNotFoundError",
     "evalue": "No module named 'cog.torque'",
     "output_type": "error",
     "traceback": [
      "\u001b[1;31m---------------------------------------------------------------------------\u001b[0m",
      "\u001b[1;31mModuleNotFoundError\u001b[0m                       Traceback (most recent call last)",
      "\u001b[1;32mi:\\GitHub\\DSC400\\Week 4\\Assignment 04.ipynb Cell 17\u001b[0m in \u001b[0;36m<module>\u001b[1;34m\u001b[0m\n\u001b[0;32m      <a href='vscode-notebook-cell:/i%3A/GitHub/DSC400/Week%204/Assignment%2004.ipynb#X22sZmlsZQ%3D%3D?line=0'>1</a>\u001b[0m \u001b[39m# TODO: Load `people` into the graph and display the follower graph\u001b[39;00m\n\u001b[1;32m----> <a href='vscode-notebook-cell:/i%3A/GitHub/DSC400/Week%204/Assignment%2004.ipynb#X22sZmlsZQ%3D%3D?line=2'>3</a>\u001b[0m \u001b[39mfrom\u001b[39;00m \u001b[39mcog\u001b[39;00m\u001b[39m.\u001b[39;00m\u001b[39mtorque\u001b[39;00m \u001b[39mimport\u001b[39;00m Graph\n\u001b[0;32m      <a href='vscode-notebook-cell:/i%3A/GitHub/DSC400/Week%204/Assignment%2004.ipynb#X22sZmlsZQ%3D%3D?line=4'>5</a>\u001b[0m g \u001b[39m=\u001b[39m Graph(\u001b[39m\"\u001b[39m\u001b[39mpeople\u001b[39m\u001b[39m\"\u001b[39m)\n",
      "\u001b[1;31mModuleNotFoundError\u001b[0m: No module named 'cog.torque'"
     ]
    }
   ],
   "source": [
    "# TODO: Load `people` into the graph and display the follower graph\n",
    "\n",
    "from cog.torque import Graph\n",
    "\n",
    "g = Graph(\"people\")\n",
    "#Cant install cogDB due to xxhash installation issues. "
   ]
  },
  {
   "cell_type": "markdown",
   "metadata": {},
   "source": [
    "#### Assignment 4.3.b\n",
    "\n",
    "Find the usernames of people who follow `murphydanny`."
   ]
  },
  {
   "cell_type": "code",
   "execution_count": 13,
   "metadata": {},
   "outputs": [
    {
     "name": "stdout",
     "output_type": "stream",
     "text": [
      "['jeffrey39']\n"
     ]
    }
   ],
   "source": [
    "# TODO: Find the usernames of people who follow `murphydanny`\n",
    "\n",
    "murphydanny_followers = []\n",
    "\n",
    "murphydanny_followers = people_db.search(profile.follows.any('murphydanny'))\n",
    "\n",
    "murphydanny_followers = [_[\"username\"] for _ in murphydanny_followers]\n",
    "\n",
    "print(murphydanny_followers)"
   ]
  }
 ],
 "metadata": {
  "kernelspec": {
   "display_name": "Python 3",
   "language": "python",
   "name": "python3"
  },
  "language_info": {
   "codemirror_mode": {
    "name": "ipython",
    "version": 3
   },
   "file_extension": ".py",
   "mimetype": "text/x-python",
   "name": "python",
   "nbconvert_exporter": "python",
   "pygments_lexer": "ipython3",
   "version": "3.9.9"
  },
  "vscode": {
   "interpreter": {
    "hash": "23b37b2c5ef3af92e6c5a1f41260f4d7d87b94b19a6a0241a9df183c040122f9"
   }
  }
 },
 "nbformat": 4,
 "nbformat_minor": 4
}
